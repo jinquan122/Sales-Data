{
  "nbformat": 4,
  "nbformat_minor": 0,
  "metadata": {
    "colab": {
      "name": "Untitled6.ipynb",
      "provenance": [],
      "authorship_tag": "ABX9TyNfM5T62MKKluO61yDcMlbG",
      "include_colab_link": true
    },
    "kernelspec": {
      "display_name": "Python 3",
      "name": "python3"
    },
    "language_info": {
      "name": "python"
    }
  },
  "cells": [
    {
      "cell_type": "markdown",
      "metadata": {
        "id": "view-in-github",
        "colab_type": "text"
      },
      "source": [
        "<a href=\"https://colab.research.google.com/github/jinquan122/Sales-Data/blob/main/Test.ipynb\" target=\"_parent\"><img src=\"https://colab.research.google.com/assets/colab-badge.svg\" alt=\"Open In Colab\"/></a>"
      ]
    },
    {
      "cell_type": "code",
      "metadata": {
        "id": "SLFxEblkeITK"
      },
      "source": [
        "#import dataset\n",
        "import pandas as pd\n",
        "file = pd.ExcelFile(\"/content/da.test.xlsx\")"
      ],
      "execution_count": 1,
      "outputs": []
    },
    {
      "cell_type": "code",
      "metadata": {
        "id": "Oc3lcqiNectr"
      },
      "source": [
        "order = file.parse(sheet_name = \"Order Data\")\n",
        "payment = file.parse(sheet_name = \"Payments Data\")"
      ],
      "execution_count": 2,
      "outputs": []
    },
    {
      "cell_type": "code",
      "metadata": {
        "colab": {
          "base_uri": "https://localhost:8080/"
        },
        "id": "RRgq-BDwhjOv",
        "outputId": "8725a1e1-4450-4907-e62b-49effa88d0a1"
      },
      "source": [
        "# Display number of obsesrvation\n",
        "a = len(order.index)\n",
        "b = len(payment.index)\n",
        "\n",
        "print(\"Total observation of order data : \",a)\n",
        "print(\"Total observation of payment data : \",b)"
      ],
      "execution_count": 3,
      "outputs": [
        {
          "output_type": "stream",
          "text": [
            "Total observation of order data :  7987\n",
            "Total observation of payment data :  7838\n"
          ],
          "name": "stdout"
        }
      ]
    },
    {
      "cell_type": "code",
      "metadata": {
        "colab": {
          "base_uri": "https://localhost:8080/"
        },
        "id": "93rwC31CfzeK",
        "outputId": "2ac1c4c4-e06b-4ab4-f28a-96398b8684db"
      },
      "source": [
        "#Check missing value\n",
        "order.isnull().sum()"
      ],
      "execution_count": 4,
      "outputs": [
        {
          "output_type": "execute_result",
          "data": {
            "text/plain": [
              "orderid            0\n",
              "shopid             0\n",
              "userid             0\n",
              "checkoutid         0\n",
              "total_price        0\n",
              "currency           0\n",
              "status             0\n",
              "created_time       0\n",
              "payment_time    1703\n",
              "cancel_time     5359\n",
              "dtype: int64"
            ]
          },
          "metadata": {
            "tags": []
          },
          "execution_count": 4
        }
      ]
    },
    {
      "cell_type": "code",
      "metadata": {
        "colab": {
          "base_uri": "https://localhost:8080/"
        },
        "id": "FXWGVyxwiUb9",
        "outputId": "faad8f7e-1a63-4640-86e7-39ea2b981eda"
      },
      "source": [
        "payment.isnull().sum()"
      ],
      "execution_count": 5,
      "outputs": [
        {
          "output_type": "execute_result",
          "data": {
            "text/plain": [
              "checkoutid           0\n",
              "total_price          0\n",
              "currency             0\n",
              "payment_method       0\n",
              "payment_time      1662\n",
              "dtype: int64"
            ]
          },
          "metadata": {
            "tags": []
          },
          "execution_count": 5
        }
      ]
    },
    {
      "cell_type": "code",
      "metadata": {
        "colab": {
          "base_uri": "https://localhost:8080/"
        },
        "id": "WRLcz1qIimUE",
        "outputId": "f76a2901-80da-4064-e83e-ba26403fa178"
      },
      "source": [
        "#Paid = 2, 11, 12, 13\n",
        "#Unpaid and Cancelled = 6\n",
        "#Paid then Cancelled = 7, 8, 9, 10\n",
        "order[\"status\"].unique()"
      ],
      "execution_count": 6,
      "outputs": [
        {
          "output_type": "execute_result",
          "data": {
            "text/plain": [
              "array([ 2,  6,  8, 11, 12, 13,  7, 10,  9])"
            ]
          },
          "metadata": {
            "tags": []
          },
          "execution_count": 6
        }
      ]
    },
    {
      "cell_type": "code",
      "metadata": {
        "id": "-NrXNrzPPoXw"
      },
      "source": [
        "#Drop rows with shopid equals to 111111111\n",
        "order.drop(order[order['shopid'] == 111111111].index, inplace=True)"
      ],
      "execution_count": 7,
      "outputs": []
    },
    {
      "cell_type": "code",
      "metadata": {
        "id": "Tr3pauW7YSpN"
      },
      "source": [
        "order = order.reset_index()"
      ],
      "execution_count": 8,
      "outputs": []
    },
    {
      "cell_type": "code",
      "metadata": {
        "colab": {
          "base_uri": "https://localhost:8080/"
        },
        "id": "XXq78ePIjFIH",
        "outputId": "c7e5c076-6bd1-4c88-9c39-240dd851559d"
      },
      "source": [
        "#Calculate number of order cancelled\n",
        "temp = 0\n",
        "for stat in order[\"status\"]:\n",
        "  if (stat >= 6) and (stat <= 10):\n",
        "    temp = temp + 1\n",
        "\n",
        "print(\"Number of order cancelled:\",temp)\n"
      ],
      "execution_count": 9,
      "outputs": [
        {
          "output_type": "stream",
          "text": [
            "Number of order cancelled: 2555\n"
          ],
          "name": "stdout"
        }
      ]
    },
    {
      "cell_type": "code",
      "metadata": {
        "colab": {
          "base_uri": "https://localhost:8080/"
        },
        "id": "elEpBqSeteGe",
        "outputId": "441864b1-243d-432f-d748-874a8bf9cb99"
      },
      "source": [
        "#Calculate value of order cancelled\n",
        "temp = 0\n",
        "for i in range(len(order.status)):\n",
        "  if (order.status[i] >= 6) and (order.status[i] <= 10):\n",
        "    temp = temp + order.total_price[i]\n",
        "\n",
        "print(\"Value of order cancelled:\",\"SGD\",\"{:.2f}\".format(temp))"
      ],
      "execution_count": 10,
      "outputs": [
        {
          "output_type": "stream",
          "text": [
            "Value of order cancelled: SGD 194768.74\n"
          ],
          "name": "stdout"
        }
      ]
    },
    {
      "cell_type": "code",
      "metadata": {
        "colab": {
          "base_uri": "https://localhost:8080/"
        },
        "id": "RZPWek8ruJUh",
        "outputId": "9e6f577e-ce8f-494e-d9b3-a5a86c084d12"
      },
      "source": [
        "#Calculate percentage of Unpaid and Cancelled\n",
        "temp = 0\n",
        "total = 0\n",
        "for i in range(len(order.status)):\n",
        "  total = total + 1\n",
        "  if (order.status[i] == 6):\n",
        "    temp = temp + 1\n",
        "\n",
        "percentage = (temp / total)*100\n",
        "\n",
        "print(\"percentage of Unpaid and Cancelled : \",\"{:.2f}\".format(percentage),\"%\")"
      ],
      "execution_count": 11,
      "outputs": [
        {
          "output_type": "stream",
          "text": [
            "percentage of Unpaid and Cancelled :  21.53 %\n"
          ],
          "name": "stdout"
        }
      ]
    },
    {
      "cell_type": "code",
      "metadata": {
        "colab": {
          "base_uri": "https://localhost:8080/"
        },
        "id": "hpBgZImku0YV",
        "outputId": "48967a1c-9938-4396-c183-aa5c0f306887"
      },
      "source": [
        "#Calculate percentage of Paid then Cancelled \n",
        "temp = 0\n",
        "total = 0\n",
        "for i in range(len(order.status)):\n",
        "  total = total + 1\n",
        "  if (order.status[i] >= 7) and (order.status[i] <= 10):\n",
        "    temp = temp + 1\n",
        "\n",
        "percentage = (temp / total)*100\n",
        "\n",
        "print(\"percentage of Paid then Cancelled : \",\"{:.2f}\".format(percentage),\"%\")"
      ],
      "execution_count": 12,
      "outputs": [
        {
          "output_type": "stream",
          "text": [
            "percentage of Paid then Cancelled :  10.77 %\n"
          ],
          "name": "stdout"
        }
      ]
    },
    {
      "cell_type": "code",
      "metadata": {
        "id": "1H6fm0BzvAMB"
      },
      "source": [
        "#Merge two sheets in excel file\n",
        "all = order.merge(payment, on='checkoutid', how='inner')"
      ],
      "execution_count": 13,
      "outputs": []
    },
    {
      "cell_type": "code",
      "metadata": {
        "colab": {
          "base_uri": "https://localhost:8080/",
          "height": 309
        },
        "id": "A_3DmvBrwAsY",
        "outputId": "e925b430-a032-4200-d479-75e8aaee24c8"
      },
      "source": [
        "all.head()"
      ],
      "execution_count": 14,
      "outputs": [
        {
          "output_type": "execute_result",
          "data": {
            "text/html": [
              "<div>\n",
              "<style scoped>\n",
              "    .dataframe tbody tr th:only-of-type {\n",
              "        vertical-align: middle;\n",
              "    }\n",
              "\n",
              "    .dataframe tbody tr th {\n",
              "        vertical-align: top;\n",
              "    }\n",
              "\n",
              "    .dataframe thead th {\n",
              "        text-align: right;\n",
              "    }\n",
              "</style>\n",
              "<table border=\"1\" class=\"dataframe\">\n",
              "  <thead>\n",
              "    <tr style=\"text-align: right;\">\n",
              "      <th></th>\n",
              "      <th>index</th>\n",
              "      <th>orderid</th>\n",
              "      <th>shopid</th>\n",
              "      <th>userid</th>\n",
              "      <th>checkoutid</th>\n",
              "      <th>total_price_x</th>\n",
              "      <th>currency_x</th>\n",
              "      <th>status</th>\n",
              "      <th>created_time</th>\n",
              "      <th>payment_time_x</th>\n",
              "      <th>cancel_time</th>\n",
              "      <th>total_price_y</th>\n",
              "      <th>currency_y</th>\n",
              "      <th>payment_method</th>\n",
              "      <th>payment_time_y</th>\n",
              "    </tr>\n",
              "  </thead>\n",
              "  <tbody>\n",
              "    <tr>\n",
              "      <th>0</th>\n",
              "      <td>2</td>\n",
              "      <td>5513066971</td>\n",
              "      <td>949679556</td>\n",
              "      <td>100223545</td>\n",
              "      <td>1676514901</td>\n",
              "      <td>24.112195</td>\n",
              "      <td>SGD</td>\n",
              "      <td>2</td>\n",
              "      <td>31/12/2019 17:51</td>\n",
              "      <td>2019-12-31 17:55:00</td>\n",
              "      <td>NaT</td>\n",
              "      <td>24.112195</td>\n",
              "      <td>SGD</td>\n",
              "      <td>Credit Card</td>\n",
              "      <td>2019-12-31 17:55:00</td>\n",
              "    </tr>\n",
              "    <tr>\n",
              "      <th>1</th>\n",
              "      <td>4</td>\n",
              "      <td>7311653202</td>\n",
              "      <td>389950494</td>\n",
              "      <td>100223545</td>\n",
              "      <td>1880489412</td>\n",
              "      <td>14.455363</td>\n",
              "      <td>SGD</td>\n",
              "      <td>6</td>\n",
              "      <td>22/12/2019 14:47</td>\n",
              "      <td>NaT</td>\n",
              "      <td>2019-12-25 11:44:00</td>\n",
              "      <td>14.455363</td>\n",
              "      <td>SGD</td>\n",
              "      <td>Credit Card</td>\n",
              "      <td>NaT</td>\n",
              "    </tr>\n",
              "    <tr>\n",
              "      <th>2</th>\n",
              "      <td>13</td>\n",
              "      <td>5791188797</td>\n",
              "      <td>373007278</td>\n",
              "      <td>100223545</td>\n",
              "      <td>1419307747</td>\n",
              "      <td>21.155060</td>\n",
              "      <td>SGD</td>\n",
              "      <td>11</td>\n",
              "      <td>28/10/2019 08:27</td>\n",
              "      <td>2019-10-30 01:21:00</td>\n",
              "      <td>NaT</td>\n",
              "      <td>21.155060</td>\n",
              "      <td>SGD</td>\n",
              "      <td>Credit Card</td>\n",
              "      <td>2019-10-30 01:21:00</td>\n",
              "    </tr>\n",
              "    <tr>\n",
              "      <th>3</th>\n",
              "      <td>14</td>\n",
              "      <td>7926278218</td>\n",
              "      <td>299238747</td>\n",
              "      <td>100223545</td>\n",
              "      <td>1434961033</td>\n",
              "      <td>130.597117</td>\n",
              "      <td>SGD</td>\n",
              "      <td>11</td>\n",
              "      <td>14/11/2019 12:55</td>\n",
              "      <td>2019-11-14 12:57:00</td>\n",
              "      <td>NaT</td>\n",
              "      <td>130.597117</td>\n",
              "      <td>SGD</td>\n",
              "      <td>Credit Card</td>\n",
              "      <td>2019-11-14 12:57:00</td>\n",
              "    </tr>\n",
              "    <tr>\n",
              "      <th>4</th>\n",
              "      <td>16</td>\n",
              "      <td>6802357712</td>\n",
              "      <td>862015688</td>\n",
              "      <td>100223545</td>\n",
              "      <td>1583161237</td>\n",
              "      <td>70.865294</td>\n",
              "      <td>SGD</td>\n",
              "      <td>12</td>\n",
              "      <td>12/11/2019 00:30</td>\n",
              "      <td>2019-11-12 19:33:00</td>\n",
              "      <td>NaT</td>\n",
              "      <td>70.865294</td>\n",
              "      <td>SGD</td>\n",
              "      <td>Credit Card</td>\n",
              "      <td>2019-11-12 19:33:00</td>\n",
              "    </tr>\n",
              "  </tbody>\n",
              "</table>\n",
              "</div>"
            ],
            "text/plain": [
              "   index     orderid     shopid  ...  currency_y  payment_method      payment_time_y\n",
              "0      2  5513066971  949679556  ...         SGD     Credit Card 2019-12-31 17:55:00\n",
              "1      4  7311653202  389950494  ...         SGD     Credit Card                 NaT\n",
              "2     13  5791188797  373007278  ...         SGD     Credit Card 2019-10-30 01:21:00\n",
              "3     14  7926278218  299238747  ...         SGD     Credit Card 2019-11-14 12:57:00\n",
              "4     16  6802357712  862015688  ...         SGD     Credit Card 2019-11-12 19:33:00\n",
              "\n",
              "[5 rows x 15 columns]"
            ]
          },
          "metadata": {
            "tags": []
          },
          "execution_count": 14
        }
      ]
    },
    {
      "cell_type": "code",
      "metadata": {
        "colab": {
          "base_uri": "https://localhost:8080/",
          "height": 193
        },
        "id": "dgWApMfB0ObZ",
        "outputId": "b5c8d9a4-3b6a-4598-a3e7-8e8d4ec0d062"
      },
      "source": [
        "all.groupby([\"payment_method\"]).sum()"
      ],
      "execution_count": 15,
      "outputs": [
        {
          "output_type": "execute_result",
          "data": {
            "text/html": [
              "<div>\n",
              "<style scoped>\n",
              "    .dataframe tbody tr th:only-of-type {\n",
              "        vertical-align: middle;\n",
              "    }\n",
              "\n",
              "    .dataframe tbody tr th {\n",
              "        vertical-align: top;\n",
              "    }\n",
              "\n",
              "    .dataframe thead th {\n",
              "        text-align: right;\n",
              "    }\n",
              "</style>\n",
              "<table border=\"1\" class=\"dataframe\">\n",
              "  <thead>\n",
              "    <tr style=\"text-align: right;\">\n",
              "      <th></th>\n",
              "      <th>index</th>\n",
              "      <th>orderid</th>\n",
              "      <th>shopid</th>\n",
              "      <th>userid</th>\n",
              "      <th>checkoutid</th>\n",
              "      <th>total_price_x</th>\n",
              "      <th>status</th>\n",
              "      <th>total_price_y</th>\n",
              "    </tr>\n",
              "    <tr>\n",
              "      <th>payment_method</th>\n",
              "      <th></th>\n",
              "      <th></th>\n",
              "      <th></th>\n",
              "      <th></th>\n",
              "      <th></th>\n",
              "      <th></th>\n",
              "      <th></th>\n",
              "      <th></th>\n",
              "    </tr>\n",
              "  </thead>\n",
              "  <tbody>\n",
              "    <tr>\n",
              "      <th>Bank Transfer</th>\n",
              "      <td>4586039</td>\n",
              "      <td>6157454343967</td>\n",
              "      <td>630990822328</td>\n",
              "      <td>632245208484</td>\n",
              "      <td>1717835910109</td>\n",
              "      <td>88053.291730</td>\n",
              "      <td>9873</td>\n",
              "      <td>88617.411688</td>\n",
              "    </tr>\n",
              "    <tr>\n",
              "      <th>Credit Card</th>\n",
              "      <td>25114492</td>\n",
              "      <td>34402210229456</td>\n",
              "      <td>3434720274015</td>\n",
              "      <td>3462917627602</td>\n",
              "      <td>9382920552384</td>\n",
              "      <td>477002.010306</td>\n",
              "      <td>54267</td>\n",
              "      <td>477565.288622</td>\n",
              "    </tr>\n",
              "    <tr>\n",
              "      <th>ShopeePay</th>\n",
              "      <td>1562263</td>\n",
              "      <td>2047865384020</td>\n",
              "      <td>213081358708</td>\n",
              "      <td>214276599222</td>\n",
              "      <td>577843970588</td>\n",
              "      <td>29283.567568</td>\n",
              "      <td>3400</td>\n",
              "      <td>29283.567568</td>\n",
              "    </tr>\n",
              "  </tbody>\n",
              "</table>\n",
              "</div>"
            ],
            "text/plain": [
              "                   index         orderid  ...  status  total_price_y\n",
              "payment_method                            ...                       \n",
              "Bank Transfer    4586039   6157454343967  ...    9873   88617.411688\n",
              "Credit Card     25114492  34402210229456  ...   54267  477565.288622\n",
              "ShopeePay        1562263   2047865384020  ...    3400   29283.567568\n",
              "\n",
              "[3 rows x 8 columns]"
            ]
          },
          "metadata": {
            "tags": []
          },
          "execution_count": 15
        }
      ]
    },
    {
      "cell_type": "code",
      "metadata": {
        "colab": {
          "base_uri": "https://localhost:8080/"
        },
        "id": "NDBWd8DK1Bih",
        "outputId": "66488622-1afd-475e-b937-5b3d7c3ec49f"
      },
      "source": [
        "#Calculate the cancellation rate\n",
        "temp = 0\n",
        "temp2 = 0\n",
        "temp3 = 0\n",
        "total = 0\n",
        "total2 = 0\n",
        "total3 = 0\n",
        "for i in range(len(all.payment_method)):\n",
        "  if (all.payment_method[i] == \"Bank Transfer\"):\n",
        "    total = total + 1\n",
        "    if (order.status[i] >= 6) and (order.status[i] <= 10):\n",
        "      temp = temp + 1\n",
        "  elif (all.payment_method[i] == \"Credit Card\"):\n",
        "    total2 = total2 + 1\n",
        "    if (order.status[i] >= 6) and (order.status[i] <= 10):\n",
        "      temp2 = temp2 + 1\n",
        "  elif (all.payment_method[i] == \"ShopeePay\"):\n",
        "    total3 = total3 + 1\n",
        "    if (order.status[i] >= 6) and (order.status[i] <= 10):\n",
        "      temp3 = temp3 + 1\n",
        "\n",
        "percentage = (temp / total)*100\n",
        "percentage2 = (temp2 / total2)*100\n",
        "percentage3 = (temp3 / total3)*100\n",
        "\n",
        "print(\"Bank transfer:\",\"{:.2f}\".format(percentage),\"%\")\n",
        "print(\"Credit card:\",\"{:.2f}\".format(percentage2),\"%\")\n",
        "print(\"ShopeePay:\",\"{:.2f}\".format(percentage3),\"%\")"
      ],
      "execution_count": 16,
      "outputs": [
        {
          "output_type": "stream",
          "text": [
            "Bank transfer: 31.62 %\n",
            "Credit card: 32.46 %\n",
            "ShopeePay: 31.93 %\n"
          ],
          "name": "stdout"
        }
      ]
    },
    {
      "cell_type": "code",
      "metadata": {
        "id": "gem5cIr_7pVr"
      },
      "source": [
        "#Merge data for reorder analysis\n",
        "reorder = order.merge(payment, on='checkoutid', how='left')"
      ],
      "execution_count": 17,
      "outputs": []
    },
    {
      "cell_type": "code",
      "metadata": {
        "colab": {
          "base_uri": "https://localhost:8080/",
          "height": 309
        },
        "id": "-GP6cMGN-486",
        "outputId": "9cc1e6c4-7afe-4be3-b69a-53577d7a628c"
      },
      "source": [
        "reorder.head()"
      ],
      "execution_count": 18,
      "outputs": [
        {
          "output_type": "execute_result",
          "data": {
            "text/html": [
              "<div>\n",
              "<style scoped>\n",
              "    .dataframe tbody tr th:only-of-type {\n",
              "        vertical-align: middle;\n",
              "    }\n",
              "\n",
              "    .dataframe tbody tr th {\n",
              "        vertical-align: top;\n",
              "    }\n",
              "\n",
              "    .dataframe thead th {\n",
              "        text-align: right;\n",
              "    }\n",
              "</style>\n",
              "<table border=\"1\" class=\"dataframe\">\n",
              "  <thead>\n",
              "    <tr style=\"text-align: right;\">\n",
              "      <th></th>\n",
              "      <th>index</th>\n",
              "      <th>orderid</th>\n",
              "      <th>shopid</th>\n",
              "      <th>userid</th>\n",
              "      <th>checkoutid</th>\n",
              "      <th>total_price_x</th>\n",
              "      <th>currency_x</th>\n",
              "      <th>status</th>\n",
              "      <th>created_time</th>\n",
              "      <th>payment_time_x</th>\n",
              "      <th>cancel_time</th>\n",
              "      <th>total_price_y</th>\n",
              "      <th>currency_y</th>\n",
              "      <th>payment_method</th>\n",
              "      <th>payment_time_y</th>\n",
              "    </tr>\n",
              "  </thead>\n",
              "  <tbody>\n",
              "    <tr>\n",
              "      <th>0</th>\n",
              "      <td>0</td>\n",
              "      <td>6505222765</td>\n",
              "      <td>900457733</td>\n",
              "      <td>100223545</td>\n",
              "      <td>1044269436</td>\n",
              "      <td>147.168235</td>\n",
              "      <td>SGD</td>\n",
              "      <td>2</td>\n",
              "      <td>14/11/2019 21:33</td>\n",
              "      <td>2019-11-16 12:54:00</td>\n",
              "      <td>NaT</td>\n",
              "      <td>NaN</td>\n",
              "      <td>NaN</td>\n",
              "      <td>NaN</td>\n",
              "      <td>NaT</td>\n",
              "    </tr>\n",
              "    <tr>\n",
              "      <th>1</th>\n",
              "      <td>1</td>\n",
              "      <td>6135926959</td>\n",
              "      <td>586311226</td>\n",
              "      <td>100223545</td>\n",
              "      <td>1211270092</td>\n",
              "      <td>33.169735</td>\n",
              "      <td>SGD</td>\n",
              "      <td>2</td>\n",
              "      <td>13/12/2019 19:02</td>\n",
              "      <td>2019-12-13 21:33:00</td>\n",
              "      <td>NaT</td>\n",
              "      <td>NaN</td>\n",
              "      <td>NaN</td>\n",
              "      <td>NaN</td>\n",
              "      <td>NaT</td>\n",
              "    </tr>\n",
              "    <tr>\n",
              "      <th>2</th>\n",
              "      <td>2</td>\n",
              "      <td>5513066971</td>\n",
              "      <td>949679556</td>\n",
              "      <td>100223545</td>\n",
              "      <td>1676514901</td>\n",
              "      <td>24.112195</td>\n",
              "      <td>SGD</td>\n",
              "      <td>2</td>\n",
              "      <td>31/12/2019 17:51</td>\n",
              "      <td>2019-12-31 17:55:00</td>\n",
              "      <td>NaT</td>\n",
              "      <td>24.112195</td>\n",
              "      <td>SGD</td>\n",
              "      <td>Credit Card</td>\n",
              "      <td>2019-12-31 17:55:00</td>\n",
              "    </tr>\n",
              "    <tr>\n",
              "      <th>3</th>\n",
              "      <td>3</td>\n",
              "      <td>5123701563</td>\n",
              "      <td>894942828</td>\n",
              "      <td>100223545</td>\n",
              "      <td>1211270092</td>\n",
              "      <td>75.913637</td>\n",
              "      <td>SGD</td>\n",
              "      <td>6</td>\n",
              "      <td>13/12/2019 19:02</td>\n",
              "      <td>NaT</td>\n",
              "      <td>2019-12-15 21:38:00</td>\n",
              "      <td>NaN</td>\n",
              "      <td>NaN</td>\n",
              "      <td>NaN</td>\n",
              "      <td>NaT</td>\n",
              "    </tr>\n",
              "    <tr>\n",
              "      <th>4</th>\n",
              "      <td>4</td>\n",
              "      <td>7311653202</td>\n",
              "      <td>389950494</td>\n",
              "      <td>100223545</td>\n",
              "      <td>1880489412</td>\n",
              "      <td>14.455363</td>\n",
              "      <td>SGD</td>\n",
              "      <td>6</td>\n",
              "      <td>22/12/2019 14:47</td>\n",
              "      <td>NaT</td>\n",
              "      <td>2019-12-25 11:44:00</td>\n",
              "      <td>14.455363</td>\n",
              "      <td>SGD</td>\n",
              "      <td>Credit Card</td>\n",
              "      <td>NaT</td>\n",
              "    </tr>\n",
              "  </tbody>\n",
              "</table>\n",
              "</div>"
            ],
            "text/plain": [
              "   index     orderid     shopid  ...  currency_y  payment_method      payment_time_y\n",
              "0      0  6505222765  900457733  ...         NaN             NaN                 NaT\n",
              "1      1  6135926959  586311226  ...         NaN             NaN                 NaT\n",
              "2      2  5513066971  949679556  ...         SGD     Credit Card 2019-12-31 17:55:00\n",
              "3      3  5123701563  894942828  ...         NaN             NaN                 NaT\n",
              "4      4  7311653202  389950494  ...         SGD     Credit Card                 NaT\n",
              "\n",
              "[5 rows x 15 columns]"
            ]
          },
          "metadata": {
            "tags": []
          },
          "execution_count": 18
        }
      ]
    },
    {
      "cell_type": "code",
      "metadata": {
        "colab": {
          "base_uri": "https://localhost:8080/"
        },
        "id": "PHKyewZtLGK3",
        "outputId": "e5161473-5ebe-459c-92dc-8d78dba3f98a"
      },
      "source": [
        "#Calculate the time difference of payment and cancel time\n",
        "reorder[\"duration\"] = \"\"\n",
        "for i in range(len(reorder.orderid)):\n",
        "  temp =  reorder.payment_time_y[i] - reorder.cancel_time[i] \n",
        "  reorder[\"duration\"][i] = temp"
      ],
      "execution_count": 19,
      "outputs": [
        {
          "output_type": "stream",
          "text": [
            "/usr/local/lib/python3.7/dist-packages/ipykernel_launcher.py:5: SettingWithCopyWarning: \n",
            "A value is trying to be set on a copy of a slice from a DataFrame\n",
            "\n",
            "See the caveats in the documentation: https://pandas.pydata.org/pandas-docs/stable/user_guide/indexing.html#returning-a-view-versus-a-copy\n",
            "  \"\"\"\n"
          ],
          "name": "stderr"
        }
      ]
    },
    {
      "cell_type": "code",
      "metadata": {
        "colab": {
          "base_uri": "https://localhost:8080/",
          "height": 609
        },
        "id": "M1z9d5tib3KT",
        "outputId": "6b15e958-8c97-4737-b13c-d14675a2d3d8"
      },
      "source": [
        "reorder"
      ],
      "execution_count": 20,
      "outputs": [
        {
          "output_type": "execute_result",
          "data": {
            "text/html": [
              "<div>\n",
              "<style scoped>\n",
              "    .dataframe tbody tr th:only-of-type {\n",
              "        vertical-align: middle;\n",
              "    }\n",
              "\n",
              "    .dataframe tbody tr th {\n",
              "        vertical-align: top;\n",
              "    }\n",
              "\n",
              "    .dataframe thead th {\n",
              "        text-align: right;\n",
              "    }\n",
              "</style>\n",
              "<table border=\"1\" class=\"dataframe\">\n",
              "  <thead>\n",
              "    <tr style=\"text-align: right;\">\n",
              "      <th></th>\n",
              "      <th>index</th>\n",
              "      <th>orderid</th>\n",
              "      <th>shopid</th>\n",
              "      <th>userid</th>\n",
              "      <th>checkoutid</th>\n",
              "      <th>total_price_x</th>\n",
              "      <th>currency_x</th>\n",
              "      <th>status</th>\n",
              "      <th>created_time</th>\n",
              "      <th>payment_time_x</th>\n",
              "      <th>cancel_time</th>\n",
              "      <th>total_price_y</th>\n",
              "      <th>currency_y</th>\n",
              "      <th>payment_method</th>\n",
              "      <th>payment_time_y</th>\n",
              "      <th>duration</th>\n",
              "    </tr>\n",
              "  </thead>\n",
              "  <tbody>\n",
              "    <tr>\n",
              "      <th>0</th>\n",
              "      <td>0</td>\n",
              "      <td>6505222765</td>\n",
              "      <td>900457733</td>\n",
              "      <td>100223545</td>\n",
              "      <td>1044269436</td>\n",
              "      <td>147.168235</td>\n",
              "      <td>SGD</td>\n",
              "      <td>2</td>\n",
              "      <td>14/11/2019 21:33</td>\n",
              "      <td>2019-11-16 12:54:00</td>\n",
              "      <td>NaT</td>\n",
              "      <td>NaN</td>\n",
              "      <td>NaN</td>\n",
              "      <td>NaN</td>\n",
              "      <td>NaT</td>\n",
              "      <td>NaT</td>\n",
              "    </tr>\n",
              "    <tr>\n",
              "      <th>1</th>\n",
              "      <td>1</td>\n",
              "      <td>6135926959</td>\n",
              "      <td>586311226</td>\n",
              "      <td>100223545</td>\n",
              "      <td>1211270092</td>\n",
              "      <td>33.169735</td>\n",
              "      <td>SGD</td>\n",
              "      <td>2</td>\n",
              "      <td>13/12/2019 19:02</td>\n",
              "      <td>2019-12-13 21:33:00</td>\n",
              "      <td>NaT</td>\n",
              "      <td>NaN</td>\n",
              "      <td>NaN</td>\n",
              "      <td>NaN</td>\n",
              "      <td>NaT</td>\n",
              "      <td>NaT</td>\n",
              "    </tr>\n",
              "    <tr>\n",
              "      <th>2</th>\n",
              "      <td>2</td>\n",
              "      <td>5513066971</td>\n",
              "      <td>949679556</td>\n",
              "      <td>100223545</td>\n",
              "      <td>1676514901</td>\n",
              "      <td>24.112195</td>\n",
              "      <td>SGD</td>\n",
              "      <td>2</td>\n",
              "      <td>31/12/2019 17:51</td>\n",
              "      <td>2019-12-31 17:55:00</td>\n",
              "      <td>NaT</td>\n",
              "      <td>24.112195</td>\n",
              "      <td>SGD</td>\n",
              "      <td>Credit Card</td>\n",
              "      <td>2019-12-31 17:55:00</td>\n",
              "      <td>NaT</td>\n",
              "    </tr>\n",
              "    <tr>\n",
              "      <th>3</th>\n",
              "      <td>3</td>\n",
              "      <td>5123701563</td>\n",
              "      <td>894942828</td>\n",
              "      <td>100223545</td>\n",
              "      <td>1211270092</td>\n",
              "      <td>75.913637</td>\n",
              "      <td>SGD</td>\n",
              "      <td>6</td>\n",
              "      <td>13/12/2019 19:02</td>\n",
              "      <td>NaT</td>\n",
              "      <td>2019-12-15 21:38:00</td>\n",
              "      <td>NaN</td>\n",
              "      <td>NaN</td>\n",
              "      <td>NaN</td>\n",
              "      <td>NaT</td>\n",
              "      <td>NaT</td>\n",
              "    </tr>\n",
              "    <tr>\n",
              "      <th>4</th>\n",
              "      <td>4</td>\n",
              "      <td>7311653202</td>\n",
              "      <td>389950494</td>\n",
              "      <td>100223545</td>\n",
              "      <td>1880489412</td>\n",
              "      <td>14.455363</td>\n",
              "      <td>SGD</td>\n",
              "      <td>6</td>\n",
              "      <td>22/12/2019 14:47</td>\n",
              "      <td>NaT</td>\n",
              "      <td>2019-12-25 11:44:00</td>\n",
              "      <td>14.455363</td>\n",
              "      <td>SGD</td>\n",
              "      <td>Credit Card</td>\n",
              "      <td>NaT</td>\n",
              "      <td>NaT</td>\n",
              "    </tr>\n",
              "    <tr>\n",
              "      <th>...</th>\n",
              "      <td>...</td>\n",
              "      <td>...</td>\n",
              "      <td>...</td>\n",
              "      <td>...</td>\n",
              "      <td>...</td>\n",
              "      <td>...</td>\n",
              "      <td>...</td>\n",
              "      <td>...</td>\n",
              "      <td>...</td>\n",
              "      <td>...</td>\n",
              "      <td>...</td>\n",
              "      <td>...</td>\n",
              "      <td>...</td>\n",
              "      <td>...</td>\n",
              "      <td>...</td>\n",
              "      <td>...</td>\n",
              "    </tr>\n",
              "    <tr>\n",
              "      <th>7906</th>\n",
              "      <td>7981</td>\n",
              "      <td>2202494251</td>\n",
              "      <td>426865777</td>\n",
              "      <td>998474908</td>\n",
              "      <td>1948614779</td>\n",
              "      <td>12.589844</td>\n",
              "      <td>SGD</td>\n",
              "      <td>7</td>\n",
              "      <td>29/11/2019 10:14</td>\n",
              "      <td>2019-11-29 10:40:00</td>\n",
              "      <td>2019-12-01 06:41:00</td>\n",
              "      <td>12.589844</td>\n",
              "      <td>SGD</td>\n",
              "      <td>Bank Transfer</td>\n",
              "      <td>2019-11-29 10:40:00</td>\n",
              "      <td>-2 days +03:59:00</td>\n",
              "    </tr>\n",
              "    <tr>\n",
              "      <th>7907</th>\n",
              "      <td>7983</td>\n",
              "      <td>3163438450</td>\n",
              "      <td>404024686</td>\n",
              "      <td>998474908</td>\n",
              "      <td>1948614779</td>\n",
              "      <td>2.942826</td>\n",
              "      <td>SGD</td>\n",
              "      <td>10</td>\n",
              "      <td>29/11/2019 10:14</td>\n",
              "      <td>2019-11-29 10:40:00</td>\n",
              "      <td>2019-11-30 00:49:00</td>\n",
              "      <td>12.589844</td>\n",
              "      <td>SGD</td>\n",
              "      <td>Bank Transfer</td>\n",
              "      <td>2019-11-29 10:40:00</td>\n",
              "      <td>-1 days +09:51:00</td>\n",
              "    </tr>\n",
              "    <tr>\n",
              "      <th>7908</th>\n",
              "      <td>7984</td>\n",
              "      <td>1041945614</td>\n",
              "      <td>155524980</td>\n",
              "      <td>998474908</td>\n",
              "      <td>1948614779</td>\n",
              "      <td>74.079080</td>\n",
              "      <td>SGD</td>\n",
              "      <td>11</td>\n",
              "      <td>29/11/2019 10:14</td>\n",
              "      <td>2019-11-29 10:40:00</td>\n",
              "      <td>NaT</td>\n",
              "      <td>12.589844</td>\n",
              "      <td>SGD</td>\n",
              "      <td>Bank Transfer</td>\n",
              "      <td>2019-11-29 10:40:00</td>\n",
              "      <td>NaT</td>\n",
              "    </tr>\n",
              "    <tr>\n",
              "      <th>7909</th>\n",
              "      <td>7985</td>\n",
              "      <td>2976193751</td>\n",
              "      <td>591090505</td>\n",
              "      <td>998474908</td>\n",
              "      <td>1948614779</td>\n",
              "      <td>64.700863</td>\n",
              "      <td>SGD</td>\n",
              "      <td>11</td>\n",
              "      <td>29/11/2019 10:14</td>\n",
              "      <td>2019-11-29 10:40:00</td>\n",
              "      <td>NaT</td>\n",
              "      <td>12.589844</td>\n",
              "      <td>SGD</td>\n",
              "      <td>Bank Transfer</td>\n",
              "      <td>2019-11-29 10:40:00</td>\n",
              "      <td>NaT</td>\n",
              "    </tr>\n",
              "    <tr>\n",
              "      <th>7910</th>\n",
              "      <td>7986</td>\n",
              "      <td>7270722508</td>\n",
              "      <td>255873398</td>\n",
              "      <td>998474908</td>\n",
              "      <td>1948614779</td>\n",
              "      <td>35.433883</td>\n",
              "      <td>SGD</td>\n",
              "      <td>11</td>\n",
              "      <td>29/11/2019 10:14</td>\n",
              "      <td>2019-11-29 10:40:00</td>\n",
              "      <td>NaT</td>\n",
              "      <td>12.589844</td>\n",
              "      <td>SGD</td>\n",
              "      <td>Bank Transfer</td>\n",
              "      <td>2019-11-29 10:40:00</td>\n",
              "      <td>NaT</td>\n",
              "    </tr>\n",
              "  </tbody>\n",
              "</table>\n",
              "<p>7911 rows × 16 columns</p>\n",
              "</div>"
            ],
            "text/plain": [
              "      index     orderid  ...      payment_time_y           duration\n",
              "0         0  6505222765  ...                 NaT                NaN\n",
              "1         1  6135926959  ...                 NaT                NaN\n",
              "2         2  5513066971  ... 2019-12-31 17:55:00                NaN\n",
              "3         3  5123701563  ...                 NaT                NaN\n",
              "4         4  7311653202  ...                 NaT                NaN\n",
              "...     ...         ...  ...                 ...                ...\n",
              "7906   7981  2202494251  ... 2019-11-29 10:40:00  -2 days +03:59:00\n",
              "7907   7983  3163438450  ... 2019-11-29 10:40:00  -1 days +09:51:00\n",
              "7908   7984  1041945614  ... 2019-11-29 10:40:00                NaT\n",
              "7909   7985  2976193751  ... 2019-11-29 10:40:00                NaT\n",
              "7910   7986  7270722508  ... 2019-11-29 10:40:00                NaT\n",
              "\n",
              "[7911 rows x 16 columns]"
            ]
          },
          "metadata": {
            "tags": []
          },
          "execution_count": 20
        }
      ]
    },
    {
      "cell_type": "code",
      "metadata": {
        "colab": {
          "base_uri": "https://localhost:8080/"
        },
        "id": "PsjFBe08CQut",
        "outputId": "56780a4a-29ff-4839-ef56-9ddc409bed8e"
      },
      "source": [
        "#Get all the difference with positive value which means there is a reorder of the customer\n",
        "x = 0\n",
        "for i in reorder.duration:\n",
        "  if i.days >= 0 and i.seconds > 0:\n",
        "    x = x + 1\n",
        "    print(\"Duration is :\",i.days,\"days\",\"and\",i.seconds,\"seconds\")\n",
        "print(\"Total number of reorder :\",x)"
      ],
      "execution_count": 21,
      "outputs": [
        {
          "output_type": "stream",
          "text": [
            "Duration is : 29 days and 64740 seconds\n",
            "Total number of reorder : 1\n"
          ],
          "name": "stdout"
        }
      ]
    }
  ]
}